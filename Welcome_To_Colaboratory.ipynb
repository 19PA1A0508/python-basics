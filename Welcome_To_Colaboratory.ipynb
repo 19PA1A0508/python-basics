{
  "nbformat": 4,
  "nbformat_minor": 0,
  "metadata": {
    "colab": {
      "name": "Welcome To Colaboratory",
      "provenance": [],
      "collapsed_sections": [],
      "toc_visible": true,
      "include_colab_link": true
    },
    "kernelspec": {
      "display_name": "Python 3",
      "name": "python3"
    }
  },
  "cells": [
    {
      "cell_type": "markdown",
      "metadata": {
        "id": "view-in-github",
        "colab_type": "text"
      },
      "source": [
        "<a href=\"https://colab.research.google.com/github/19PA1A0508/python-basics/blob/master/Welcome_To_Colaboratory.ipynb\" target=\"_parent\"><img src=\"https://colab.research.google.com/assets/colab-badge.svg\" alt=\"Open In Colab\"/></a>"
      ]
    },
    {
      "cell_type": "code",
      "metadata": {
        "id": "i7FFjoElV8xW",
        "colab_type": "code",
        "colab": {}
      },
      "source": [
        "import pandas as pd\n",
        "import numpy as np\n",
        "from sklearn.model_selection import train_test_split\n",
        "from sklearn.linear_model import LinearRegression\n",
        "import matplotlib.pyplot as plt\n"
      ],
      "execution_count": 0,
      "outputs": []
    },
    {
      "cell_type": "code",
      "metadata": {
        "id": "fimB1123cePu",
        "colab_type": "code",
        "colab": {
          "base_uri": "https://localhost:8080/",
          "height": 443
        },
        "outputId": "016f6d34-42ce-4a07-cf05-9094848b770d"
      },
      "source": [
        "b=pd.read_csv(\"02.csv\")\n",
        "b"
      ],
      "execution_count": 24,
      "outputs": [
        {
          "output_type": "execute_result",
          "data": {
            "text/html": [
              "<div>\n",
              "<style scoped>\n",
              "    .dataframe tbody tr th:only-of-type {\n",
              "        vertical-align: middle;\n",
              "    }\n",
              "\n",
              "    .dataframe tbody tr th {\n",
              "        vertical-align: top;\n",
              "    }\n",
              "\n",
              "    .dataframe thead th {\n",
              "        text-align: right;\n",
              "    }\n",
              "</style>\n",
              "<table border=\"1\" class=\"dataframe\">\n",
              "  <thead>\n",
              "    <tr style=\"text-align: right;\">\n",
              "      <th></th>\n",
              "      <th>Roll No</th>\n",
              "      <th>Gender</th>\n",
              "      <th>Section</th>\n",
              "      <th>SSC Percentage</th>\n",
              "      <th>inter_Diploma_percentage</th>\n",
              "      <th>B.Tech_percentage</th>\n",
              "      <th>Backlogs</th>\n",
              "      <th>registered_for_ Placement_Training</th>\n",
              "      <th>placement status</th>\n",
              "    </tr>\n",
              "  </thead>\n",
              "  <tbody>\n",
              "    <tr>\n",
              "      <th>0</th>\n",
              "      <td>1</td>\n",
              "      <td>M</td>\n",
              "      <td>A</td>\n",
              "      <td>87.3</td>\n",
              "      <td>65.30</td>\n",
              "      <td>40.00</td>\n",
              "      <td>18</td>\n",
              "      <td>NO</td>\n",
              "      <td>Not placed</td>\n",
              "    </tr>\n",
              "    <tr>\n",
              "      <th>1</th>\n",
              "      <td>2</td>\n",
              "      <td>F</td>\n",
              "      <td>A</td>\n",
              "      <td>89.0</td>\n",
              "      <td>92.40</td>\n",
              "      <td>71.45</td>\n",
              "      <td>0</td>\n",
              "      <td>yes</td>\n",
              "      <td>Placed</td>\n",
              "    </tr>\n",
              "    <tr>\n",
              "      <th>2</th>\n",
              "      <td>3</td>\n",
              "      <td>F</td>\n",
              "      <td>A</td>\n",
              "      <td>67.0</td>\n",
              "      <td>68.00</td>\n",
              "      <td>45.26</td>\n",
              "      <td>13</td>\n",
              "      <td>yes</td>\n",
              "      <td>Not placed</td>\n",
              "    </tr>\n",
              "    <tr>\n",
              "      <th>3</th>\n",
              "      <td>4</td>\n",
              "      <td>M</td>\n",
              "      <td>A</td>\n",
              "      <td>71.0</td>\n",
              "      <td>70.40</td>\n",
              "      <td>36.47</td>\n",
              "      <td>17</td>\n",
              "      <td>yes</td>\n",
              "      <td>Not placed</td>\n",
              "    </tr>\n",
              "    <tr>\n",
              "      <th>4</th>\n",
              "      <td>5</td>\n",
              "      <td>M</td>\n",
              "      <td>A</td>\n",
              "      <td>67.0</td>\n",
              "      <td>65.50</td>\n",
              "      <td>42.52</td>\n",
              "      <td>17</td>\n",
              "      <td>yes</td>\n",
              "      <td>Not placed</td>\n",
              "    </tr>\n",
              "    <tr>\n",
              "      <th>...</th>\n",
              "      <td>...</td>\n",
              "      <td>...</td>\n",
              "      <td>...</td>\n",
              "      <td>...</td>\n",
              "      <td>...</td>\n",
              "      <td>...</td>\n",
              "      <td>...</td>\n",
              "      <td>...</td>\n",
              "      <td>...</td>\n",
              "    </tr>\n",
              "    <tr>\n",
              "      <th>112</th>\n",
              "      <td>113</td>\n",
              "      <td>M</td>\n",
              "      <td>B</td>\n",
              "      <td>81.1</td>\n",
              "      <td>78.60</td>\n",
              "      <td>35.84</td>\n",
              "      <td>16</td>\n",
              "      <td>NO</td>\n",
              "      <td>Not placed</td>\n",
              "    </tr>\n",
              "    <tr>\n",
              "      <th>113</th>\n",
              "      <td>114</td>\n",
              "      <td>M</td>\n",
              "      <td>B</td>\n",
              "      <td>81.3</td>\n",
              "      <td>85.12</td>\n",
              "      <td>68.50</td>\n",
              "      <td>0</td>\n",
              "      <td>NO</td>\n",
              "      <td>Not placed</td>\n",
              "    </tr>\n",
              "    <tr>\n",
              "      <th>114</th>\n",
              "      <td>115</td>\n",
              "      <td>M</td>\n",
              "      <td>B</td>\n",
              "      <td>83.5</td>\n",
              "      <td>89.90</td>\n",
              "      <td>76.30</td>\n",
              "      <td>0</td>\n",
              "      <td>NO</td>\n",
              "      <td>Not placed</td>\n",
              "    </tr>\n",
              "    <tr>\n",
              "      <th>115</th>\n",
              "      <td>116</td>\n",
              "      <td>M</td>\n",
              "      <td>B</td>\n",
              "      <td>85.5</td>\n",
              "      <td>90.63</td>\n",
              "      <td>74.50</td>\n",
              "      <td>0</td>\n",
              "      <td>NO</td>\n",
              "      <td>Not placed</td>\n",
              "    </tr>\n",
              "    <tr>\n",
              "      <th>116</th>\n",
              "      <td>117</td>\n",
              "      <td>M</td>\n",
              "      <td>B</td>\n",
              "      <td>80.0</td>\n",
              "      <td>83.33</td>\n",
              "      <td>65.53</td>\n",
              "      <td>0</td>\n",
              "      <td>NO</td>\n",
              "      <td>Not placed</td>\n",
              "    </tr>\n",
              "  </tbody>\n",
              "</table>\n",
              "<p>117 rows × 9 columns</p>\n",
              "</div>"
            ],
            "text/plain": [
              "     Roll No Gender  ... registered_for_ Placement_Training  placement status\n",
              "0          1      M  ...                                 NO        Not placed\n",
              "1          2      F  ...                                yes            Placed\n",
              "2          3      F  ...                                yes        Not placed\n",
              "3          4      M  ...                                yes        Not placed\n",
              "4          5      M  ...                                yes        Not placed\n",
              "..       ...    ...  ...                                ...               ...\n",
              "112      113      M  ...                                 NO        Not placed\n",
              "113      114      M  ...                                 NO        Not placed\n",
              "114      115      M  ...                                 NO        Not placed\n",
              "115      116      M  ...                                 NO        Not placed\n",
              "116      117      M  ...                                 NO        Not placed\n",
              "\n",
              "[117 rows x 9 columns]"
            ]
          },
          "metadata": {
            "tags": []
          },
          "execution_count": 24
        }
      ]
    },
    {
      "cell_type": "code",
      "metadata": {
        "id": "nO7EiP-VcypI",
        "colab_type": "code",
        "colab": {
          "base_uri": "https://localhost:8080/",
          "height": 194
        },
        "outputId": "74d37cc0-5b17-49a4-8c98-4e97cade147f"
      },
      "source": [
        "b.isna().any()"
      ],
      "execution_count": 26,
      "outputs": [
        {
          "output_type": "execute_result",
          "data": {
            "text/plain": [
              "Roll No                               False\n",
              "Gender                                False\n",
              "Section                               False\n",
              "SSC Percentage                        False\n",
              "inter_Diploma_percentage              False\n",
              "B.Tech_percentage                     False\n",
              "Backlogs                              False\n",
              "registered_for_ Placement_Training    False\n",
              "placement status                      False\n",
              "dtype: bool"
            ]
          },
          "metadata": {
            "tags": []
          },
          "execution_count": 26
        }
      ]
    },
    {
      "cell_type": "code",
      "metadata": {
        "id": "B0ngSid9c-Tw",
        "colab_type": "code",
        "colab": {
          "base_uri": "https://localhost:8080/",
          "height": 194
        },
        "outputId": "64ec8dc5-193b-480f-9d28-01d30a0915b7"
      },
      "source": [
        "b.dtypes"
      ],
      "execution_count": 29,
      "outputs": [
        {
          "output_type": "execute_result",
          "data": {
            "text/plain": [
              "Roll No                                 int64\n",
              "Gender                                 object\n",
              "Section                                object\n",
              "SSC Percentage                        float64\n",
              "inter_Diploma_percentage              float64\n",
              "B.Tech_percentage                     float64\n",
              "Backlogs                                int64\n",
              "registered_for_ Placement_Training     object\n",
              "placement status                       object\n",
              "dtype: object"
            ]
          },
          "metadata": {
            "tags": []
          },
          "execution_count": 29
        }
      ]
    },
    {
      "cell_type": "code",
      "metadata": {
        "id": "3ZxLTYJfdmvT",
        "colab_type": "code",
        "colab": {}
      },
      "source": [
        "x=b[[\"SSC Percentage\",\"inter_Diploma_percentage\"]].values\n",
        "y=b[\"B.Tech_percentage\"].values"
      ],
      "execution_count": 0,
      "outputs": []
    },
    {
      "cell_type": "code",
      "metadata": {
        "id": "RHnIzAF6dLqW",
        "colab_type": "code",
        "colab": {
          "base_uri": "https://localhost:8080/",
          "height": 1000
        },
        "outputId": "ad2e033f-f855-47e6-a489-eb4c95b5cf17"
      },
      "source": [
        "x_train,x_test,y_train,y_test=train_test_split(x,y,test_size=0.2,random_state=1)\n",
        "x_train,x_test,y_train,y_test"
      ],
      "execution_count": 35,
      "outputs": [
        {
          "output_type": "execute_result",
          "data": {
            "text/plain": [
              "(array([[64.  , 56.7 ],\n",
              "        [89.33, 88.6 ],\n",
              "        [87.33, 90.  ],\n",
              "        [74.  , 76.8 ],\n",
              "        [72.  , 81.  ],\n",
              "        [66.16, 77.2 ],\n",
              "        [76.  , 80.1 ],\n",
              "        [90.66, 94.7 ],\n",
              "        [88.1 , 89.1 ],\n",
              "        [81.1 , 67.5 ],\n",
              "        [82.33, 76.3 ],\n",
              "        [87.33, 83.8 ],\n",
              "        [79.  , 88.9 ],\n",
              "        [89.  , 86.  ],\n",
              "        [87.83, 93.6 ],\n",
              "        [80.  , 83.33],\n",
              "        [55.66, 65.3 ],\n",
              "        [82.  , 91.4 ],\n",
              "        [81.  , 73.  ],\n",
              "        [83.5 , 88.8 ],\n",
              "        [86.66, 89.9 ],\n",
              "        [60.83, 80.2 ],\n",
              "        [89.  , 88.9 ],\n",
              "        [88.16, 91.4 ],\n",
              "        [85.5 , 83.6 ],\n",
              "        [62.  , 70.91],\n",
              "        [83.  , 83.  ],\n",
              "        [90.5 , 90.4 ],\n",
              "        [86.6 , 78.4 ],\n",
              "        [84.1 , 73.  ],\n",
              "        [92.66, 93.7 ],\n",
              "        [67.  , 65.5 ],\n",
              "        [86.  , 91.9 ],\n",
              "        [85.83, 86.  ],\n",
              "        [82.83, 84.1 ],\n",
              "        [75.33, 61.2 ],\n",
              "        [79.  , 79.  ],\n",
              "        [87.5 , 84.4 ],\n",
              "        [85.5 , 90.63],\n",
              "        [82.9 , 73.4 ],\n",
              "        [87.1 , 81.  ],\n",
              "        [86.  , 92.5 ],\n",
              "        [86.16, 87.2 ],\n",
              "        [63.66, 69.  ],\n",
              "        [83.66, 90.5 ],\n",
              "        [85.33, 93.8 ],\n",
              "        [77.5 , 83.9 ],\n",
              "        [90.33, 95.6 ],\n",
              "        [71.  , 70.4 ],\n",
              "        [68.16, 62.6 ],\n",
              "        [87.33, 96.5 ],\n",
              "        [81.3 , 85.12],\n",
              "        [77.16, 89.1 ],\n",
              "        [65.3 , 77.7 ],\n",
              "        [85.  , 89.6 ],\n",
              "        [81.83, 85.6 ],\n",
              "        [87.3 , 65.3 ],\n",
              "        [74.5 , 69.6 ],\n",
              "        [72.5 , 67.8 ],\n",
              "        [80.3 , 83.  ],\n",
              "        [85.33, 91.2 ],\n",
              "        [79.6 , 69.2 ],\n",
              "        [84.83, 79.3 ],\n",
              "        [81.1 , 78.6 ],\n",
              "        [87.1 , 88.7 ],\n",
              "        [50.66, 54.2 ],\n",
              "        [83.16, 79.9 ],\n",
              "        [82.  , 73.6 ],\n",
              "        [85.  , 61.  ],\n",
              "        [82.66, 89.6 ],\n",
              "        [63.1 , 52.2 ],\n",
              "        [72.  , 88.1 ],\n",
              "        [64.3 , 67.1 ],\n",
              "        [91.  , 66.  ],\n",
              "        [74.  , 88.4 ],\n",
              "        [80.66, 86.3 ],\n",
              "        [83.83, 90.3 ],\n",
              "        [87.42, 92.2 ],\n",
              "        [74.5 , 78.3 ],\n",
              "        [71.  , 56.5 ],\n",
              "        [79.  , 93.  ],\n",
              "        [78.  , 59.  ],\n",
              "        [89.  , 92.4 ],\n",
              "        [87.  , 85.  ],\n",
              "        [86.  , 94.2 ],\n",
              "        [70.  , 81.  ],\n",
              "        [81.26, 68.  ],\n",
              "        [78.6 , 87.8 ],\n",
              "        [79.9 , 75.5 ],\n",
              "        [81.83, 83.7 ],\n",
              "        [81.33, 60.3 ],\n",
              "        [83.  , 81.01],\n",
              "        [91.  , 94.3 ]]), array([[47.8 , 52.4 ],\n",
              "        [83.5 , 76.9 ],\n",
              "        [90.3 , 93.7 ],\n",
              "        [83.5 , 89.9 ],\n",
              "        [88.16, 80.1 ],\n",
              "        [88.3 , 93.9 ],\n",
              "        [72.17, 77.7 ],\n",
              "        [72.  , 84.5 ],\n",
              "        [90.  , 91.6 ],\n",
              "        [92.33, 96.9 ],\n",
              "        [79.33, 61.1 ],\n",
              "        [76.83, 80.4 ],\n",
              "        [67.  , 68.  ],\n",
              "        [77.33, 76.5 ],\n",
              "        [82.3 , 75.13],\n",
              "        [87.33, 92.  ],\n",
              "        [88.  , 67.9 ],\n",
              "        [79.83, 64.2 ],\n",
              "        [83.66, 90.4 ],\n",
              "        [82.3 , 83.7 ],\n",
              "        [74.16, 91.7 ],\n",
              "        [93.66, 95.1 ],\n",
              "        [84.84, 91.6 ],\n",
              "        [75.5 , 81.7 ]]), array([31.2 , 69.62, 68.7 , 51.  , 51.  , 52.09, 42.  , 81.1 , 61.68,\n",
              "        45.45, 71.49, 69.48, 71.94, 65.6 , 74.34, 65.53, 38.  , 75.42,\n",
              "        42.17, 67.5 , 75.13, 54.  , 63.  , 72.74, 60.35, 55.7 , 62.97,\n",
              "        70.3 , 65.7 , 57.3 , 76.35, 42.52, 62.16, 75.96, 72.57, 58.67,\n",
              "        55.49, 72.57, 74.5 , 52.  , 61.  , 70.85, 54.18, 61.  , 57.8 ,\n",
              "        77.5 , 73.01, 80.47, 36.47, 64.63, 74.25, 68.5 , 67.06, 62.99,\n",
              "        53.  , 60.72, 40.  , 56.89, 52.31, 68.3 , 74.3 , 49.68, 61.02,\n",
              "        35.84, 74.96, 60.53, 68.7 , 42.  , 52.56, 83.38, 50.55, 69.6 ,\n",
              "        64.36, 49.67, 76.02, 71.65, 76.9 , 78.  , 55.82, 33.77, 59.  ,\n",
              "        51.06, 71.45, 70.01, 78.6 , 57.75, 62.2 , 56.88, 51.  , 68.9 ,\n",
              "        54.74, 58.  , 72.68]), array([44.73, 59.53, 77.95, 76.3 , 63.41, 78.6 , 58.  , 67.21, 72.4 ,\n",
              "        88.1 , 62.98, 72.73, 45.26, 52.  , 54.16, 70.85, 53.26, 65.46,\n",
              "        72.47, 69.48, 73.09, 85.39, 70.09, 73.13]))"
            ]
          },
          "metadata": {
            "tags": []
          },
          "execution_count": 35
        }
      ]
    },
    {
      "cell_type": "code",
      "metadata": {
        "id": "OxgW89BsdhLf",
        "colab_type": "code",
        "colab": {
          "base_uri": "https://localhost:8080/",
          "height": 54
        },
        "outputId": "37674af5-0b91-4712-f662-559cce8fa6a2"
      },
      "source": [
        "model=LinearRegression()\n",
        "model.fit(x_train,y_train)"
      ],
      "execution_count": 36,
      "outputs": [
        {
          "output_type": "execute_result",
          "data": {
            "text/plain": [
              "LinearRegression(copy_X=True, fit_intercept=True, n_jobs=None, normalize=False)"
            ]
          },
          "metadata": {
            "tags": []
          },
          "execution_count": 36
        }
      ]
    },
    {
      "cell_type": "code",
      "metadata": {
        "id": "Kf6BF2y-eSZL",
        "colab_type": "code",
        "colab": {
          "base_uri": "https://localhost:8080/",
          "height": 34
        },
        "outputId": "0e0228df-8589-4cdd-b47c-cd55a1bd3c07"
      },
      "source": [
        "model.intercept_"
      ],
      "execution_count": 37,
      "outputs": [
        {
          "output_type": "execute_result",
          "data": {
            "text/plain": [
              "-3.0793848261986554"
            ]
          },
          "metadata": {
            "tags": []
          },
          "execution_count": 37
        }
      ]
    },
    {
      "cell_type": "code",
      "metadata": {
        "id": "v2mGgAFfeXzI",
        "colab_type": "code",
        "colab": {
          "base_uri": "https://localhost:8080/",
          "height": 34
        },
        "outputId": "3c5da80c-be9b-4080-e3ab-a8eeb983cb2d"
      },
      "source": [
        "model.coef_"
      ],
      "execution_count": 39,
      "outputs": [
        {
          "output_type": "execute_result",
          "data": {
            "text/plain": [
              "array([0.06767154, 0.73925063])"
            ]
          },
          "metadata": {
            "tags": []
          },
          "execution_count": 39
        }
      ]
    },
    {
      "cell_type": "code",
      "metadata": {
        "id": "s6j-aSk5eXs2",
        "colab_type": "code",
        "colab": {}
      },
      "source": [
        "btech=model.predict(x_test)\n"
      ],
      "execution_count": 0,
      "outputs": []
    },
    {
      "cell_type": "code",
      "metadata": {
        "id": "-ch5yLK8e9MM",
        "colab_type": "code",
        "colab": {}
      },
      "source": [
        "actual=pd.DataFrame({\"actual2=ytest\":y_test.flatten(),\"predicted= imposed on xtest\":btech.flatten()})\n"
      ],
      "execution_count": 0,
      "outputs": []
    },
    {
      "cell_type": "code",
      "metadata": {
        "id": "9EPEa4gyftU-",
        "colab_type": "code",
        "colab": {
          "base_uri": "https://localhost:8080/",
          "height": 197
        },
        "outputId": "36cc253f-7a93-4f46-a37b-88963dd355b9"
      },
      "source": [
        "actual.head()"
      ],
      "execution_count": 47,
      "outputs": [
        {
          "output_type": "execute_result",
          "data": {
            "text/html": [
              "<div>\n",
              "<style scoped>\n",
              "    .dataframe tbody tr th:only-of-type {\n",
              "        vertical-align: middle;\n",
              "    }\n",
              "\n",
              "    .dataframe tbody tr th {\n",
              "        vertical-align: top;\n",
              "    }\n",
              "\n",
              "    .dataframe thead th {\n",
              "        text-align: right;\n",
              "    }\n",
              "</style>\n",
              "<table border=\"1\" class=\"dataframe\">\n",
              "  <thead>\n",
              "    <tr style=\"text-align: right;\">\n",
              "      <th></th>\n",
              "      <th>actual2=ytest</th>\n",
              "      <th>predicted= imposed on xtest</th>\n",
              "    </tr>\n",
              "  </thead>\n",
              "  <tbody>\n",
              "    <tr>\n",
              "      <th>0</th>\n",
              "      <td>44.73</td>\n",
              "      <td>38.892047</td>\n",
              "    </tr>\n",
              "    <tr>\n",
              "      <th>1</th>\n",
              "      <td>59.53</td>\n",
              "      <td>59.419562</td>\n",
              "    </tr>\n",
              "    <tr>\n",
              "      <th>2</th>\n",
              "      <td>77.95</td>\n",
              "      <td>72.299139</td>\n",
              "    </tr>\n",
              "    <tr>\n",
              "      <th>3</th>\n",
              "      <td>76.30</td>\n",
              "      <td>69.029820</td>\n",
              "    </tr>\n",
              "    <tr>\n",
              "      <th>4</th>\n",
              "      <td>63.41</td>\n",
              "      <td>62.100513</td>\n",
              "    </tr>\n",
              "  </tbody>\n",
              "</table>\n",
              "</div>"
            ],
            "text/plain": [
              "   actual2=ytest  predicted= imposed on xtest\n",
              "0          44.73                    38.892047\n",
              "1          59.53                    59.419562\n",
              "2          77.95                    72.299139\n",
              "3          76.30                    69.029820\n",
              "4          63.41                    62.100513"
            ]
          },
          "metadata": {
            "tags": []
          },
          "execution_count": 47
        }
      ]
    }
  ]
}